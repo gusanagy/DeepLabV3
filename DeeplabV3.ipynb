{
  "cells": [
    {
      "cell_type": "markdown",
      "metadata": {
        "id": "view-in-github",
        "colab_type": "text"
      },
      "source": [
        "<a href=\"https://colab.research.google.com/github/gusanagy/DeepLabV3/blob/main/DeeplabV3.ipynb\" target=\"_parent\"><img src=\"https://colab.research.google.com/assets/colab-badge.svg\" alt=\"Open In Colab\"/></a>"
      ]
    },
    {
      "cell_type": "markdown",
      "metadata": {
        "id": "KfXEOh7fE3Mb"
      },
      "source": [
        "#DeeplabV3+"
      ]
    },
    {
      "cell_type": "markdown",
      "metadata": {
        "id": "KfKfbN5Wr56z"
      },
      "source": [
        "1. Organizar codigo\n",
        "  * Funcionalizar o codigo\n",
        "    * Funcionalizar Dataloader\n",
        "    * '' treino\n",
        "    * teste\n",
        "2. Funcaoes de melhoria\n",
        "  * Adicionar funcao que salva as predições  (*Checkpoint*)\n",
        "  * Adicionar func que carrega as predições (*Load Checkpoint*)\n",
        "  * inserir *data augumentation*\n",
        "  * adicionar *wandb*\n",
        "\n",
        "\n",
        "\n",
        "3. Funcoes de avaliacao\n",
        "  * investigar tensor boards para avaliações\n",
        "  * colocar metricas de avaliação\n",
        "    * iou_score\n",
        "    * dice_score\n",
        "    * recall\n",
        "    * falso_positivo\n",
        "    * confusion matrix\n",
        "    * falso_negativo\n",
        "    * check_accuracy\n",
        "\n",
        "4. Erros remanescentes\n",
        "  * investigar normalizacao e augumentation\n",
        "\n",
        "\n",
        "5. Atualizar no github\n",
        "\n",
        "\n"
      ]
    },
    {
      "cell_type": "markdown",
      "metadata": {
        "id": "Qk5t2GCtGZ1o"
      },
      "source": [
        "##Bibliotecas usadas"
      ]
    },
    {
      "cell_type": "code",
      "execution_count": null,
      "metadata": {
        "id": "sy_7V0RnvhjX"
      },
      "outputs": [],
      "source": [
        "import os\n",
        "import numpy as np\n",
        "from PIL import Image\n",
        "import pandas as pd\n",
        "import matplotlib.pyplot as plt\n",
        "import cv2\n",
        "from glob import glob\n",
        "from tqdm import tqdm_notebook as tqdm\n",
        "from google.colab import drive\n",
        "\n",
        "from sklearn.model_selection import train_test_split\n",
        "from sklearn.utils import shuffle\n",
        "\n",
        "from albumentations import Compose, HorizontalFlip, ChannelShuffle, Resize, CoarseDropout, Rotate, Equalize, RandomShadow, CenterCrop, RandomBrightnessContrast, HorizontalFlip, CLAHE, Normalize\n",
        "#from albumentations.augmentations.geometric.resize import Resize as\n",
        "from albumentations.pytorch import ToTensorV2\n",
        "\n",
        "import torch\n",
        "from torch import optim\n",
        "from torch import nn as nn\n",
        "\n",
        "from torch.utils.data import Dataset, DataLoader\n",
        "from torch.utils.data import SubsetRandomSampler\n",
        "\n",
        "from torchvision import datasets\n",
        "from torchvision.transforms import ToTensor, Resize\n",
        "from torchvision.io import read_image\n",
        "from torchvision.transforms import ConvertImageDtype\n",
        "from torchvision import datasets, transforms\n",
        "#from torchvision.transforms import Compose\n",
        "from torchvision import transforms\n",
        "\n",
        "from tqdm.auto import tqdm\n",
        "from timeit import default_timer as timer"
      ]
    },
    {
      "cell_type": "markdown",
      "metadata": {
        "id": "q6ahOXqrsO20"
      },
      "source": [
        "### Helper functions"
      ]
    },
    {
      "cell_type": "code",
      "execution_count": null,
      "metadata": {
        "id": "eR7odsiNoZ-E",
        "colab": {
          "base_uri": "https://localhost:8080/"
        },
        "outputId": "b6f30856-ba8d-4f30-983d-7f0548b0b41b"
      },
      "outputs": [
        {
          "output_type": "stream",
          "name": "stdout",
          "text": [
            "Downloading helper_functions.py\n"
          ]
        }
      ],
      "source": [
        "import requests\n",
        "from pathlib import Path\n",
        "\n",
        "# Download helper functions from Learn PyTorch repo (if not already downloaded)\n",
        "if Path(\"helper_functions.py\").is_file():\n",
        "  print(\"helper_functions.py already exists, skipping download\")\n",
        "else:\n",
        "  print(\"Downloading helper_functions.py\")\n",
        "  # Note: you need the \"raw\" GitHub URL for this to work\n",
        "  request = requests.get(\"https://raw.githubusercontent.com/mrdbourke/pytorch-deep-learning/main/helper_functions.py\")\n",
        "  with open(\"helper_functions.py\", \"wb\") as f:\n",
        "    f.write(request.content)\n",
        "\n"
      ]
    },
    {
      "cell_type": "code",
      "execution_count": null,
      "metadata": {
        "id": "4Fr_zuauo4tM"
      },
      "outputs": [],
      "source": [
        "# Import accuracy metric\n",
        "from helper_functions import accuracy_fn # Note: could also use torchmetrics.Accuracy(task = 'multiclass', num_classes=len(class_names)).to(device)\n",
        "\n",
        "def print_train_time(start: float,\n",
        "                     end: float,\n",
        "                     device: torch.device = None):\n",
        "  \"\"\"Prints difference between start and end time. \"\"\"\n",
        "  total_time = end-start\n",
        "  print(f\"Train time on {device}: {total_time:.3f} seconds\")\n",
        "  return total_time"
      ]
    },
    {
      "cell_type": "markdown",
      "source": [
        "### Wandb\n"
      ],
      "metadata": {
        "id": "M-UGizAx5nDC"
      }
    },
    {
      "cell_type": "code",
      "source": [
        "!pip install wandb"
      ],
      "metadata": {
        "id": "7ylfcl-c5pEW"
      },
      "execution_count": null,
      "outputs": []
    },
    {
      "cell_type": "code",
      "source": [
        "import wandb\n",
        "wandb.login()"
      ],
      "metadata": {
        "id": "QPGZlOHQ5s0R"
      },
      "execution_count": null,
      "outputs": []
    },
    {
      "cell_type": "code",
      "source": [
        "wandb.init(\n",
        "  project=\"DeepLabV3\",\n",
        ")"
      ],
      "metadata": {
        "id": "gxz8nbCd571p"
      },
      "execution_count": null,
      "outputs": []
    },
    {
      "cell_type": "markdown",
      "metadata": {
        "id": "qus1XC8FHJJF"
      },
      "source": [
        "## Montar Drive"
      ]
    },
    {
      "cell_type": "code",
      "execution_count": null,
      "metadata": {
        "id": "1Z2IwuLgsNVS",
        "colab": {
          "base_uri": "https://localhost:8080/"
        },
        "outputId": "f14ef1d2-d789-4f43-f14d-befd9e5f9602"
      },
      "outputs": [
        {
          "output_type": "stream",
          "name": "stdout",
          "text": [
            "Mounted at /content/gdrive/\n",
            "dataset   .gitignore\t       LICENSE\tnetwork      README.md\t       utils\n",
            "datasets  Heart.csv\t       main.py\tpredict.py   requirements.txt\n",
            ".git\t  helper_functions.py  metrics\t__pycache__  samples\n"
          ]
        }
      ],
      "source": [
        "\n",
        "# montar Google Drive / mount Google drive\n",
        "# será solicitadas as credenciais do usuario\n",
        "# do gmail\n",
        "drive.mount('/content/gdrive/',force_remount=True)\n",
        "#ir para pasta conhecimento\n",
        "path = '/content/gdrive/MyDrive/DeepLabV3Plus-Pytorch/'\n",
        "#ir para pasta conhecimento\n",
        "os.chdir(path)\n",
        "\n",
        "#listar arquivos da pasta\n",
        "!ls -A"
      ]
    },
    {
      "cell_type": "markdown",
      "metadata": {
        "id": "Feeg3yHGGe5h"
      },
      "source": [
        "##Data Augmentation extra // Não rodar"
      ]
    },
    {
      "cell_type": "code",
      "execution_count": null,
      "metadata": {
        "id": "SY0SPQFmR5A6"
      },
      "outputs": [],
      "source": [
        "\"\"\" Diretório \"\"\"\n",
        "def create_dir(path):\n",
        "    if not os.path.exists(path):\n",
        "        os.makedirs(path)\n",
        "\n",
        "def load_data(path, split = 0.25):\n",
        "    \"\"\" Carregamento das imagens e máscaras \"\"\"\n",
        "    X = sorted(glob(os.path.join(path, \"/content/gdrive/MyDrive/DeepLabV3Plus-Pytorch/datasets/Dataset_Strawberry/images\", \"*.png\")))\n",
        "    Y = sorted(glob(os.path.join(path, \"/content/gdrive/MyDrive/DeepLabV3Plus-Pytorch/datasets/Dataset_Strawberry/masks\", \"*.png\")))\n",
        "\n",
        "    split_size = int(len(X) * split)\n",
        "\n",
        "    train_x, test_x = train_test_split(X, test_size = split_size, random_state = 42)\n",
        "    train_y, test_y = train_test_split(Y, test_size = split_size, random_state = 42)\n",
        "\n",
        "    return (train_x, train_y), (test_x, test_y)\n",
        "def augment_data(images, masks, save_path, augment = True):\n",
        "    H = 512\n",
        "    W = 512\n",
        "\n",
        "    for x, y in tqdm(zip(images, masks), total = len(images)):\n",
        "        name = x.split(\"/\")[-1].split(\".\")[0]\n",
        "\n",
        "        x = cv2.imread(x, cv2.IMREAD_COLOR)\n",
        "        y = cv2.imread(y, cv2.IMREAD_COLOR)\n",
        "\n",
        "        \"\"\" Data Augmentation \"\"\"\n",
        "        if augment == True:\n",
        "            aug = HorizontalFlip(p = 1.0) #Flip horizontal\n",
        "            augmented = aug(image = x, mask = y)\n",
        "            x1 = augmented[\"image\"]\n",
        "            y1 = augmented[\"mask\"]\n",
        "\n",
        "            x2 = cv2.cvtColor(x, cv2.COLOR_RGB2GRAY)\n",
        "            y2 = y\n",
        "\n",
        "            \"\"\"\n",
        "            aug = ChannelShuffle(p = 1) #Reorganiza aleatoriamente os canais da imagem RGB de entrada.\n",
        "            augmented = aug(image = x, mask = y)\n",
        "            x3 = augmented['image']\n",
        "            y3 = augmented['mask']\n",
        "            \"\"\"\n",
        "\n",
        "            aug = CoarseDropout(p = 1, min_holes = 3, max_holes = 10, max_height = 32, max_width = 32) #Dropa uma caixa de pixels 32x32 da imagem, pode simular possíveis falhas na linha de plantação\n",
        "            augmented = aug(image = x, mask = y)\n",
        "            x4 = augmented['image']\n",
        "            y4 = augmented['mask']\n",
        "\n",
        "            \"\"\"\n",
        "            aug = Rotate(limit = 45, p = 1.0) #Rotaciona a imagem de entrada\n",
        "            augmented = aug(image = x, mask = y)\n",
        "            x5 = augmented[\"image\"]\n",
        "            y5 = augmented[\"mask\"]\n",
        "            \"\"\"\n",
        "\n",
        "            aug = Equalize(p = 1.0) #Equaliza a imagem de entrada\n",
        "            augmented = aug(image = x, mask = y)\n",
        "            x5 = augmented[\"image\"]\n",
        "            y5 = augmented[\"mask\"]\n",
        "\n",
        "            \"\"\"\n",
        "            aug = RandomShadow(shadow_roi = (0, 0.5, 1, 1), num_shadows_lower = 1, num_shadows_upper = 1, shadow_dimension = 4, always_apply = False, p=1) #Cria sombras nas imagens\n",
        "            augmented = aug(image = x, mask = y)\n",
        "            x6 = augmented[\"image\"]\n",
        "            y6 = augmented[\"mask\"]\n",
        "            \"\"\"\n",
        "\n",
        "            aug = RandomBrightnessContrast(brightness_limit=0.3, contrast_limit=0.3, brightness_by_max=True, always_apply=False, p=1.5) #Brilho aleatório\n",
        "            augmented = aug(image = x, mask = y)\n",
        "            x6 = augmented[\"image\"]\n",
        "            y6 = augmented[\"mask\"]\n",
        "\n",
        "            X = [x, x1, x2, x4, x5, x6]\n",
        "            Y = [y, y1, y2, y4, y5, y6]\n",
        "\n",
        "        else:\n",
        "            X = [x]\n",
        "            Y = [y]\n",
        "\n",
        "        index = 0\n",
        "        for i, m in zip(X, Y):\n",
        "            try:\n",
        "                aug = CenterCrop(H, W, p = 1.0)\n",
        "                augmented = aug(image = i, mask = m)\n",
        "                i = augmented[\"image\"]\n",
        "                m = augmented[\"mask\"]\n",
        "\n",
        "            except Exception as e:\n",
        "                i = cv2.resize(i, (W, H))\n",
        "                m = cv2.resize(m, (W, H))\n",
        "\n",
        "            tmp_image_name = f\"{name}_{index}.png\"\n",
        "            tmp_mask_name = f\"{name}_{index}.png\"\n",
        "\n",
        "            image_path = os.path.join(save_path, \"image\", tmp_image_name)\n",
        "            mask_path = os.path.join(save_path, \"mask\", tmp_mask_name)\n",
        "\n",
        "            cv2.imwrite(image_path, i)\n",
        "            cv2.imwrite(mask_path, m)\n",
        "\n",
        "            index += 1"
      ]
    },
    {
      "cell_type": "markdown",
      "metadata": {
        "id": "DgyuakE5YJcp"
      },
      "source": [
        "### Data Augmentation Main"
      ]
    },
    {
      "cell_type": "code",
      "execution_count": null,
      "metadata": {
        "id": "lkdQnNGE5UUH",
        "colab": {
          "base_uri": "https://localhost:8080/"
        },
        "outputId": "9a3af012-cce9-456e-85de-659ea0312d20"
      },
      "outputs": [
        {
          "output_type": "stream",
          "name": "stdout",
          "text": [
            "Train:\t 327 - 327\n",
            "Test:\t 109 - 109\n"
          ]
        }
      ],
      "source": [
        "# if __name__ == \"__main__\":\n",
        "#     np.random.seed(42)\n",
        "\n",
        "#     \"\"\" Carregamento do Dataset \"\"\"\n",
        "#     data_path = \"datasets\"\n",
        "\n",
        "#     (train_x, train_y), (test_x, test_y) = load_data(data_path)\n",
        "\n",
        "#     print(f\"Train:\\t {len(train_x)} - {len(train_y)}\")\n",
        "#     print(f\"Test:\\t {len(test_x)} - {len(test_y)}\")\n",
        "\n",
        "    # \"\"\" Criando os diretórios para o Data Augmentation \"\"\"\n",
        "    # create_dir(\"/dataset/new_data/train/image/\")\n",
        "    # create_dir(\"/dataset/new_data/train/mask/\")\n",
        "    # create_dir(\"/dataset/new_data/test/image/\")\n",
        "    # create_dir(\"/dataset/new_data/test/mask/\")\n",
        "\n",
        "    # augment_data(train_x, train_y, \"/dataset/new_data/train/\", augment = True)\n",
        "    # augment_data(test_x, test_y, \"/dataset/new_data/test/\", augment = True)#Substitui por True"
      ]
    },
    {
      "cell_type": "markdown",
      "metadata": {
        "id": "rhfLNhJlYOkw"
      },
      "source": [
        "## Setup DataLoader"
      ]
    },
    {
      "cell_type": "markdown",
      "metadata": {
        "id": "YoxLNZEBdACX"
      },
      "source": [
        "### Endereço para o dataset Augumentado com a lib augumentations"
      ]
    },
    {
      "cell_type": "code",
      "execution_count": null,
      "metadata": {
        "id": "4f9OCzjNjX7S",
        "colab": {
          "base_uri": "https://localhost:8080/"
        },
        "outputId": "0dd5a977-8f6c-4e48-88d0-2f0be554f7c8"
      },
      "outputs": [
        {
          "output_type": "stream",
          "name": "stdout",
          "text": [
            "\n",
            "          Dir of X / no aug:     datasets/Dataset_Strawberry/images/\n",
            "          Dir of y / no aug:     datasets/Dataset_Strawberry/masks/\n",
            "          Dir train x:  dataset/new_data/train/image/\n",
            "          Dir train y:  dataset/new_data/train/mask/\n",
            "          Dir test x:   dataset/new_data/test/image/\n",
            "          Dir test y:   dataset/new_data/test/mask/\n"
          ]
        }
      ],
      "source": [
        "#diretório das imagens de treino\n",
        "TRAIN_IMG_DIR = \"dataset/new_data/train/image/\"\n",
        "#diretório das máscaras de treino\n",
        "TRAIN_MASK_DIR = \"dataset/new_data/train/mask/\"\n",
        "#diretório das imagens de teste\n",
        "VAL_IMG_DIR = \"dataset/new_data/test/image/\"\n",
        "#diretório das máscaras de teste\n",
        "VAL_MASK_DIR = \"dataset/new_data/test/mask/\"\n",
        "\n",
        "#Caso fosse utilizar o dataset sem augumentar\n",
        "DIR_X = \"datasets/Dataset_Strawberry/images/\"\n",
        "DIR_y = \"datasets/Dataset_Strawberry/masks/\"\n",
        "\n",
        "print(f\"\"\"\n",
        "          Dir of X / no aug:     {DIR_X}\n",
        "          Dir of y / no aug:     {DIR_y}\n",
        "          Dir train x:  {TRAIN_IMG_DIR}\n",
        "          Dir train y:  {TRAIN_MASK_DIR}\n",
        "          Dir test x:   {VAL_IMG_DIR}\n",
        "          Dir test y:   {VAL_MASK_DIR}\"\"\")\n"
      ]
    },
    {
      "cell_type": "markdown",
      "metadata": {
        "id": "pZuUivU9dPOo"
      },
      "source": [
        "### Classe Custom Dataset"
      ]
    },
    {
      "cell_type": "code",
      "execution_count": null,
      "metadata": {
        "id": "eQzvtBuuzx5v"
      },
      "outputs": [],
      "source": [
        "class AgroDataset(Dataset):\n",
        "    def __init__(self, img_dir_x, img_dir_y, transform=None, transform_2=None):\n",
        "        #self.img_labels = pd.read_csv(annotations_file)\n",
        "        self.img_dir_x = img_dir_x\n",
        "        self.img_dir_y = img_dir_y\n",
        "        self.train_transform = transform\n",
        "        self.train_transform_2 = transform_2\n",
        "        self.images = os.listdir(img_dir_x)\n",
        "\n",
        "    def __len__(self):\n",
        "        return len(self.img_dir_x)\n",
        "\n",
        "    def __getitem__(self, idx):\n",
        "        img_path_x = os.path.join(self.img_dir_x,self.images[idx].replace(\".jpg\", \".png\"))\n",
        "        img_path_y = os.path.join(self.img_dir_y,self.images[idx].replace(\".jpg\", \".png\"))\n",
        "        image_x =  np.array(Image.open(img_path_x).convert(\"RGB\"))#Modifiqui para nao carretgar imagens rgb\n",
        "        label_mask_y = np.array(Image.open(img_path_y).convert(\"L\"))\n",
        "\n",
        "        #label_mask_y = label_mask_y.repeat(3, 1, 1)\n",
        "        #image_x = read_image(img_path_x)#.numpy().dtype(np.int32)\n",
        "        #label_mask_y = read_image(img_path_y)#.numpy().dtype(np.int32)\n",
        "        #label_mask_y = Image.open(img_path_y)\n",
        "        #image_x = Image.open(img_path_x)\n",
        "        #label = os.path.basename(X_train[idx])\n",
        "        label_mask_y[label_mask_y == 255.0] = 1.0\n",
        "\n",
        "        #convert_to_binary = lambda x: 1.0 if x == 255 else 0.0\n",
        "        #resultado = list(map(convert_to_binary, label_mask_y))\n",
        "\n",
        "        if self.train_transform is not None:\n",
        "          image_x = self.train_transform(image_x)\n",
        "          label_mask_y = self.train_transform_2(label_mask_y)\n",
        "        return image_x, label_mask_y\n",
        "    # classmethod\n",
        "    # def decode_target(cls, mask):\n",
        "    #     \"\"\"decode semantic mask to RGB image\"\"\"\n",
        "    #     return cls.cmap[mask]\n"
      ]
    },
    {
      "cell_type": "code",
      "source": [
        "# def one_hot_encode(label, label_values):\n",
        "#     \"\"\"\n",
        "#     Convert a segmentation image label array to one-hot format\n",
        "#     by replacing each pixel value with a vector of length num_classes\n",
        "#     # Arguments\n",
        "#         label: The 2D array segmentation image label\n",
        "#         label_values\n",
        "\n",
        "#     # Returns\n",
        "#         A 2D array with the same width and hieght as the input, but\n",
        "#         with a depth size of num_classes\n",
        "#     \"\"\"\n",
        "#     semantic_map = []\n",
        "#     for colour in label_values:\n",
        "#         equality = np.equal(label, colour)\n",
        "#         class_map = np.all(equality, axis = -1)\n",
        "#         semantic_map.append(class_map)\n",
        "#     semantic_map = np.stack(semantic_map, axis=-1)\n",
        "\n",
        "#     return semantic_map"
      ],
      "metadata": {
        "id": "0aoqaPRAtkPN"
      },
      "execution_count": null,
      "outputs": []
    },
    {
      "cell_type": "markdown",
      "metadata": {
        "id": "rvFlwdZedUIJ"
      },
      "source": [
        "###Instancia a Classe e carrega os dados do Dataset"
      ]
    },
    {
      "cell_type": "code",
      "execution_count": null,
      "metadata": {
        "id": "GcqvS_rzacmp"
      },
      "outputs": [],
      "source": [
        "def Get_loaders(\n",
        "    TRAIN_IMG_DIR,\n",
        "    TRAIN_MASK_DIR,\n",
        "    VAL_IMG_DIR,\n",
        "    VAL_MASK_DIR,\n",
        "    BATCH_SIZE=8,\n",
        "    NUM_WORKERS=4,\n",
        "    PIN_MEMORY=True):\n",
        "\n",
        "  # Definir transformações para o DataLoader\n",
        "  train_transform = transforms.Compose(\n",
        "                                [\n",
        "                                transforms.ToPILImage(),\n",
        "                                transforms.Resize((255,255)),\n",
        "                                transforms.ToTensor(),\n",
        "                                #transforms.Lambda(lambda x: torch.cat([x, x, x], dim=0)),\n",
        "                                #transforms.Lambda(lambda x: 1.0 if x == 255.0 else x / 255.0),\n",
        "                                transforms.ConvertImageDtype(torch.float),\n",
        "                                #transforms.Normalize((0.5, 0.5, 0.5), (0.5, 0.5, 0.5)),\n",
        "                                #transforms.Normalize((0.485), (0.229)),\n",
        "                                ]\n",
        "  )\n",
        "  test_transform = transforms.Compose(\n",
        "                                [\n",
        "                                transforms.ToPILImage(),\n",
        "                                transforms.Resize((255,255)),\n",
        "                                transforms.ToTensor(),\n",
        "                                #transforms.Lambda(lambda x: torch.cat([x, x, x], dim=0)),\n",
        "                                #transforms.Lambda(lambda x: 1.0 if x == 255.0 else x / 255.0),\n",
        "                                transforms.ConvertImageDtype(torch.float),\n",
        "                                #transforms.Normalize((0.5), (0.5))\n",
        "                                ]\n",
        "  )\n",
        "\n",
        "  data_train = AgroDataset( img_dir_x = TRAIN_IMG_DIR,\n",
        "                            img_dir_y = TRAIN_MASK_DIR,\n",
        "                            transform = train_transform,\n",
        "                            transform_2= test_transform\n",
        "                            #transform = ConvertImageDtype(torch.int),\n",
        "                            #target_transform = ConvertImageDtype(torch.int)\n",
        "                                )\n",
        "  data_test = AgroDataset(  img_dir_x = VAL_IMG_DIR,\n",
        "                            img_dir_y = VAL_MASK_DIR,\n",
        "                            transform = train_transform,\n",
        "                            transform_2= test_transform\n",
        "                            #transform = ConvertImageDtype(torch.int),\n",
        "                            #target_transform = ConvertImageDtype(torch.int)\n",
        "                                )\n",
        "\n",
        "  train_dataloader = DataLoader(\n",
        "                                data_train,\n",
        "                                shuffle=True,\n",
        "                                batch_size=BATCH_SIZE,\n",
        "                                num_workers=NUM_WORKERS,\n",
        "                                drop_last=True\n",
        "                                )\n",
        "\n",
        "  test_dataloader  = DataLoader(\n",
        "                                data_test,\n",
        "                                shuffle=True,\n",
        "                                batch_size=BATCH_SIZE,\n",
        "                                num_workers=NUM_WORKERS\n",
        "                                )\n",
        "\n",
        "  return train_dataloader, test_dataloader"
      ]
    },
    {
      "cell_type": "markdown",
      "source": [
        "### Test Dataloader"
      ],
      "metadata": {
        "id": "r6mud1PNtIA0"
      }
    },
    {
      "cell_type": "code",
      "execution_count": null,
      "metadata": {
        "id": "PVmRWQljhnbG",
        "colab": {
          "base_uri": "https://localhost:8080/",
          "height": 245
        },
        "outputId": "846cd105-f5f4-4330-805c-a76593beb3c9"
      },
      "outputs": [
        {
          "output_type": "error",
          "ename": "NameError",
          "evalue": "ignored",
          "traceback": [
            "\u001b[0;31m---------------------------------------------------------------------------\u001b[0m",
            "\u001b[0;31mNameError\u001b[0m                                 Traceback (most recent call last)",
            "\u001b[0;32m<ipython-input-11-1ab07e1df823>\u001b[0m in \u001b[0;36m<cell line: 2>\u001b[0;34m()\u001b[0m\n\u001b[1;32m      1\u001b[0m \u001b[0;31m# Obter um lote de imagens do DataLoader\u001b[0m\u001b[0;34m\u001b[0m\u001b[0;34m\u001b[0m\u001b[0m\n\u001b[0;32m----> 2\u001b[0;31m \u001b[0mbatch_images\u001b[0m\u001b[0;34m,\u001b[0m \u001b[0mbatch_labels\u001b[0m \u001b[0;34m=\u001b[0m \u001b[0mnext\u001b[0m\u001b[0;34m(\u001b[0m\u001b[0miter\u001b[0m\u001b[0;34m(\u001b[0m\u001b[0mtrain_dataloader\u001b[0m\u001b[0;34m)\u001b[0m\u001b[0;34m)\u001b[0m\u001b[0;34m\u001b[0m\u001b[0;34m\u001b[0m\u001b[0m\n\u001b[0m\u001b[1;32m      3\u001b[0m \u001b[0;34m\u001b[0m\u001b[0m\n\u001b[1;32m      4\u001b[0m \u001b[0;31m# Plotar as imagens e mostrar seus shapes\u001b[0m\u001b[0;34m\u001b[0m\u001b[0;34m\u001b[0m\u001b[0m\n\u001b[1;32m      5\u001b[0m \u001b[0mfig\u001b[0m\u001b[0;34m,\u001b[0m \u001b[0maxs\u001b[0m \u001b[0;34m=\u001b[0m \u001b[0mplt\u001b[0m\u001b[0;34m.\u001b[0m\u001b[0msubplots\u001b[0m\u001b[0;34m(\u001b[0m\u001b[0;36m2\u001b[0m\u001b[0;34m,\u001b[0m \u001b[0mlen\u001b[0m\u001b[0;34m(\u001b[0m\u001b[0mbatch_images\u001b[0m\u001b[0;34m)\u001b[0m\u001b[0;34m,\u001b[0m \u001b[0mfigsize\u001b[0m\u001b[0;34m=\u001b[0m\u001b[0;34m(\u001b[0m\u001b[0;36m24\u001b[0m\u001b[0;34m,\u001b[0m \u001b[0;36m8\u001b[0m\u001b[0;34m)\u001b[0m\u001b[0;34m)\u001b[0m\u001b[0;34m\u001b[0m\u001b[0;34m\u001b[0m\u001b[0m\n",
            "\u001b[0;31mNameError\u001b[0m: name 'train_dataloader' is not defined"
          ]
        }
      ],
      "source": [
        "# Obter um lote de imagens do DataLoader\n",
        "batch_images, batch_labels = next(iter(train_dataloader))\n",
        "\n",
        "# Plotar as imagens e mostrar seus shapes\n",
        "fig, axs = plt.subplots(2, len(batch_images), figsize=(24, 8))\n",
        "formato = []\n",
        "for i in range(len(batch_images)):\n",
        "    formato.append((batch_images[i].shape,batch_labels[i].shape,'\\n'))\n",
        "    # Converter as imagens e rótulos de tensor para arrays numpy\n",
        "    image_np = batch_images[i].numpy().transpose((1, 2, 0))  # Transpor as dimensões para (height, width, channels)\n",
        "    label_np = batch_labels[i].numpy().transpose((1, 2, 0))  # Transpor as dimensões para (height, width, channels)\n",
        "\n",
        "    # Plotar a imagem original\n",
        "    axs[0, i].imshow(image_np)\n",
        "    axs[0, i].set_title(f'Image Shape: {image_np.shape}')\n",
        "\n",
        "    # Plotar o rótulo\n",
        "    axs[1, i].imshow(label_np)\n",
        "    axs[1, i].set_title(f'Label Shape: {label_np.shape}')\n",
        "\n",
        "# Ajustar espaçamento e exibir o gráfico\n",
        "plt.tight_layout()\n",
        "plt.show()\n"
      ]
    },
    {
      "cell_type": "code",
      "execution_count": null,
      "metadata": {
        "id": "kv39C7zbyNWN",
        "colab": {
          "base_uri": "https://localhost:8080/",
          "height": 245
        },
        "outputId": "ded794fe-b24d-4acb-fb2f-e329ceac62b7"
      },
      "outputs": [
        {
          "output_type": "error",
          "ename": "NameError",
          "evalue": "ignored",
          "traceback": [
            "\u001b[0;31m---------------------------------------------------------------------------\u001b[0m",
            "\u001b[0;31mNameError\u001b[0m                                 Traceback (most recent call last)",
            "\u001b[0;32m<ipython-input-1-af9c9b76d43a>\u001b[0m in \u001b[0;36m<cell line: 2>\u001b[0;34m()\u001b[0m\n\u001b[1;32m      1\u001b[0m \u001b[0;31m#print(formato)\u001b[0m\u001b[0;34m\u001b[0m\u001b[0;34m\u001b[0m\u001b[0m\n\u001b[1;32m      2\u001b[0m print(f\"\"\"\n\u001b[0;32m----> 3\u001b[0;31m \u001b[0mvalor\u001b[0m \u001b[0mminimo\u001b[0m \u001b[0mlabels\u001b[0m\u001b[0;34m:\u001b[0m \u001b[0;34m{\u001b[0m\u001b[0mnp\u001b[0m\u001b[0;34m.\u001b[0m\u001b[0mmin\u001b[0m\u001b[0;34m(\u001b[0m\u001b[0mbatch_labels\u001b[0m\u001b[0;34m[\u001b[0m\u001b[0;36m0\u001b[0m\u001b[0;34m:\u001b[0m\u001b[0;36m2\u001b[0m\u001b[0;34m]\u001b[0m\u001b[0;34m.\u001b[0m\u001b[0mnumpy\u001b[0m\u001b[0;34m(\u001b[0m\u001b[0;34m)\u001b[0m\u001b[0;34m)\u001b[0m\u001b[0;34m}\u001b[0m\u001b[0;34m\u001b[0m\u001b[0;34m\u001b[0m\u001b[0m\n\u001b[0m\u001b[1;32m      4\u001b[0m \u001b[0mvalor\u001b[0m \u001b[0mmaximo\u001b[0m \u001b[0mlabels\u001b[0m\u001b[0;34m:\u001b[0m \u001b[0;34m{\u001b[0m\u001b[0mnp\u001b[0m\u001b[0;34m.\u001b[0m\u001b[0mmax\u001b[0m\u001b[0;34m(\u001b[0m\u001b[0mbatch_labels\u001b[0m\u001b[0;34m[\u001b[0m\u001b[0;36m0\u001b[0m\u001b[0;34m:\u001b[0m\u001b[0;36m2\u001b[0m\u001b[0;34m]\u001b[0m\u001b[0;34m.\u001b[0m\u001b[0mnumpy\u001b[0m\u001b[0;34m(\u001b[0m\u001b[0;34m)\u001b[0m\u001b[0;34m)\u001b[0m\u001b[0;34m}\u001b[0m\u001b[0;34m\u001b[0m\u001b[0;34m\u001b[0m\u001b[0m\n\u001b[1;32m      5\u001b[0m \u001b[0mvalor\u001b[0m \u001b[0mminimo\u001b[0m \u001b[0mimages\u001b[0m\u001b[0;34m:\u001b[0m \u001b[0;34m{\u001b[0m\u001b[0mnp\u001b[0m\u001b[0;34m.\u001b[0m\u001b[0mmin\u001b[0m\u001b[0;34m(\u001b[0m\u001b[0mbatch_images\u001b[0m\u001b[0;34m[\u001b[0m\u001b[0;36m0\u001b[0m\u001b[0;34m:\u001b[0m\u001b[0;36m2\u001b[0m\u001b[0;34m]\u001b[0m\u001b[0;34m.\u001b[0m\u001b[0mnumpy\u001b[0m\u001b[0;34m(\u001b[0m\u001b[0;34m)\u001b[0m\u001b[0;34m)\u001b[0m\u001b[0;34m}\u001b[0m\u001b[0;34m\u001b[0m\u001b[0;34m\u001b[0m\u001b[0m\n",
            "\u001b[0;31mNameError\u001b[0m: name 'np' is not defined"
          ]
        }
      ],
      "source": [
        "#print(formato)\n",
        "print(f\"\"\"\n",
        "valor minimo labels: {np.min(batch_labels[0:2].numpy())}\n",
        "valor maximo labels: {np.max(batch_labels[0:2].numpy())}\n",
        "valor minimo images: {np.min(batch_images[0:2].numpy())}\n",
        "valor maximo images: {np.max(batch_images[0:2].numpy())}\n",
        "\"\"\")"
      ]
    },
    {
      "cell_type": "markdown",
      "metadata": {
        "id": "v1pmbGuZ26xr"
      },
      "source": [
        "### Testando Num_worker\n",
        "\n",
        "https://chtalhaanwar.medium.com/pytorch-num-workers-a-tip-for-speedy-training-ed127d825db7"
      ]
    },
    {
      "cell_type": "code",
      "execution_count": null,
      "metadata": {
        "id": "c1tDAl5g26SV"
      },
      "outputs": [],
      "source": [
        "# from time import time\n",
        "# import multiprocessing as mp\n",
        "# for num_workers in range(2, mp.cpu_count(), 2):\n",
        "#     train_loader , _ = Get_loaders(TRAIN_IMG_DIR = TRAIN_IMG_DIR, \\\n",
        "#                                     TRAIN_MASK_DIR = TRAIN_MASK_DIR, \\\n",
        "#                                     VAL_IMG_DIR = VAL_IMG_DIR, \\\n",
        "#                                     VAL_MASK_DIR = VAL_MASK_DIR, \\\n",
        "#                                     BATCH_SIZE=8, \\\n",
        "#                                     NUM_WORKERS=num_workers, \\\n",
        "#                                     PIN_MEMORY=True)\n",
        "#     start = time()\n",
        "#     for epoch in range(1, 3):\n",
        "#         for (X,y) in train_loader:\n",
        "#             pass\n",
        "#     end = time()\n",
        "#     print(\"Finish with:{} second, num_workers={}\".format(end - start, num_workers))\n",
        "\n"
      ]
    },
    {
      "cell_type": "markdown",
      "metadata": {
        "id": "5bIDgv7Y6X7r"
      },
      "source": [
        "### Setup Agnostic code"
      ]
    },
    {
      "cell_type": "code",
      "execution_count": null,
      "metadata": {
        "id": "Gs4InrC9Qpy_"
      },
      "outputs": [],
      "source": [
        "# import os\n",
        "# os.environ['CUDA_LAUNCH_BLOCKING'] = \"1\""
      ]
    },
    {
      "cell_type": "code",
      "execution_count": null,
      "metadata": {
        "id": "sBV0bl5gfm4W",
        "colab": {
          "base_uri": "https://localhost:8080/",
          "height": 35
        },
        "outputId": "851dd354-8693-48a4-f20c-f40e84890793"
      },
      "outputs": [
        {
          "output_type": "execute_result",
          "data": {
            "text/plain": [
              "'cuda'"
            ],
            "application/vnd.google.colaboratory.intrinsic+json": {
              "type": "string"
            }
          },
          "metadata": {},
          "execution_count": 12
        }
      ],
      "source": [
        "# Setup device-agnostic code\n",
        "device = \"cuda\" if torch.cuda.is_available() else \"cpu\"\n",
        "device"
      ]
    },
    {
      "cell_type": "markdown",
      "metadata": {
        "id": "5QGvpSu4HL-l"
      },
      "source": [
        "## Importa DeepLabV3+\n",
        "\n",
        "\n"
      ]
    },
    {
      "cell_type": "code",
      "execution_count": null,
      "metadata": {
        "id": "M61foWjczWjO"
      },
      "outputs": [],
      "source": [
        "# import network as net\n",
        "# #é diferente desta maneira que eu fiz ver codigo fonte do git\n",
        "# model = net.deeplabv3plus_resnet101()\n",
        "# net.convert_to_separable_conv(model.classifier)\n",
        "# model = model.to(device)\n",
        "# #utils.set_bn_momentum(model.backbone, momentum=0.01)\n",
        "# #model.state_dict()"
      ]
    },
    {
      "cell_type": "code",
      "execution_count": null,
      "metadata": {
        "id": "YTkagMJrAuBK"
      },
      "outputs": [],
      "source": [
        "#model = torch.hub.load('pytorch/vision:v0.10.0', 'deeplabv3_resnet50', pretrained=True)\n",
        "# or any of these variants\n",
        "#model = torch.hub.load('pytorch/vision:v0.10.0', 'deeplabv3_resnet101', pretrained=True,)\n",
        "# model = torch.hub.load('pytorch/vision:v0.10.0', 'deeplabv3_mobilenet_v3_large', pretrained=True)\n",
        "#model.eval()\n",
        "#model.to(device)"
      ]
    },
    {
      "cell_type": "code",
      "execution_count": null,
      "metadata": {
        "id": "zniUM68uJNWv",
        "colab": {
          "base_uri": "https://localhost:8080/"
        },
        "outputId": "2d62ad4a-d7cc-43d9-ef2f-51073cb73658"
      },
      "outputs": [
        {
          "output_type": "execute_result",
          "data": {
            "text/plain": [
              "device(type='cpu')"
            ]
          },
          "metadata": {},
          "execution_count": 13
        }
      ],
      "source": [
        "from torchvision.models.segmentation import deeplabv3_resnet101 as deeplabv3_resnet101\n",
        "model = deeplabv3_resnet101(num_classes=2)\n",
        "#model.to(\"cpu\")\n",
        "next(model.parameters()).device"
      ]
    },
    {
      "cell_type": "markdown",
      "metadata": {
        "id": "t-dQEndHe6P3"
      },
      "source": [
        "###Setup Loss and Optimizer"
      ]
    },
    {
      "cell_type": "code",
      "execution_count": null,
      "metadata": {
        "id": "R_J5xYQOTig5"
      },
      "outputs": [],
      "source": [
        "optimizer = optim.SGD(model.parameters(), lr=0.01, momentum=0.9, weight_decay=1e-4)\n",
        "#torch.optim.lr_scheduler.StepLR(optimizer, step_size= , gamma= )\n",
        "criterion = nn.CrossEntropyLoss()"
      ]
    },
    {
      "cell_type": "markdown",
      "source": [
        "### Utils Function"
      ],
      "metadata": {
        "id": "amviWiVJavbz"
      }
    },
    {
      "cell_type": "code",
      "source": [
        "# Calculate accuracy (a classification metric)\n",
        "def accuracy_fn(y_true, y_pred):\n",
        "    \"\"\"Calculates accuracy between truth labels and predictions.\n",
        "\n",
        "    Args:\n",
        "        y_true (torch.Tensor): Truth labels for predictions.\n",
        "        y_pred (torch.Tensor): Predictions to be compared to predictions.\n",
        "\n",
        "    Returns:\n",
        "        [torch.float]: Accuracy value between y_true and y_pred, e.g. 78.45\n",
        "    \"\"\"\n",
        "    correct = torch.eq(y_true, y_pred).sum().item()\n",
        "    acc = (correct / len(y_pred)) * 100\n",
        "    return acc\n"
      ],
      "metadata": {
        "id": "HgCLXO6OJhFZ"
      },
      "execution_count": null,
      "outputs": []
    },
    {
      "cell_type": "code",
      "source": [
        "def save_checkpoint(state, filename=\"my_checkpoint.pth.tar\"):\n",
        "    print(\"=> Saving checkpoint\")\n",
        "    torch.save(state, filename)\n",
        "\n",
        "def load_checkpoint(checkpoint, model):\n",
        "    print(\"=> Loading checkpoint\")\n",
        "    model.load_state_dict(checkpoint[\"state_dict\"])\n",
        "\n",
        "#analise dos resultados\n",
        "def iou_score(preds, targets, smooth=1e-6):\n",
        "    assert preds.shape == targets.shape, \"As dimensões de preds e targets devem ser iguais.\"\n",
        "\n",
        "    preds = preds > 0.5\n",
        "    targets = targets > 0.5\n",
        "\n",
        "    intersection = (preds * targets).sum()\n",
        "    union = preds.sum() + targets.sum() - intersection\n",
        "    iou = (intersection) / (union + smooth)\n",
        "\n",
        "    return iou\n",
        "\n",
        "\n",
        "def dice_score(preds, targets, smooth=1e-6):\n",
        "    intersection = torch.logical_and(preds, targets).sum()\n",
        "    union = preds.sum() + targets.sum()\n",
        "    dice = (2 * intersection + smooth) / (union + smooth)\n",
        "    return dice\n",
        "\n",
        "def recall(preds, targets, smooth=1e-6):\n",
        "   #binariza as previsões e os alvos\n",
        "    preds = preds > 0.5\n",
        "    targets = targets > 0.5\n",
        "\n",
        "    # calcula o número de verdadeiros positivos e falsos negativos\n",
        "    true_positives = torch.logical_and(preds, targets).sum()\n",
        "    false_negatives = targets.sum() - true_positives\n",
        "\n",
        "     # calcula o recall com suavização para evitar divisão por zero\n",
        "    recall_value = true_positives / (true_positives + false_negatives + smooth)\n",
        "    return recall_value\n",
        "\n",
        "def falso_positivo(preds, targets, smooth=1e-6):\n",
        "    #binarizo as previsões e alvos\n",
        "    preds = preds > 0.5 #qualquer valor acima de 0.5 é positivo e abaixo de 0.5 é negativo\n",
        "    targets = targets > 0.5\n",
        "\n",
        "    falsos_positivos = (preds > targets).sum()  #calcula o número de falsos positivos\n",
        "\n",
        "    verdadeiros_negativos = (~preds & ~targets).sum()  #uso ~como negativo, ou seja quando ambos são 0, tanto a máscara como a predição.\n",
        "\n",
        "    fpr = falsos_positivos.sum() / (falsos_positivos.sum() + verdadeiros_negativos.sum() + smooth)    #fórmula + smooth para evitar divisão por 0\n",
        "    return fpr\n",
        "\n",
        "def falso_negativo(preds, targets, smooth=1e-6):\n",
        "    #binarizo as previsões e alvos\n",
        "    preds = preds > 0.5 #qualquer valor acima de 0.5 é positivo e abaixo de 0.5 é negativo\n",
        "    targets = targets > 0.5\n",
        "\n",
        "    verdadeiros_positivos = torch.logical_and(targets, preds).sum() #usa essa função lógica do pytorch para calcular os acertos\n",
        "\n",
        "    falsos_negativos = targets.sum() - verdadeiros_positivos # aqui faço:  o total de positivos certo - o total de positivos acertados = o número de positivos que foi predito como negativos\n",
        "\n",
        "    fnr = falsos_negativos.sum() / (falsos_negativos.sum() + verdadeiros_positivos.sum() + smooth) #fórmula + smooth para evitar divisão por 0\n",
        "\n",
        "    return fnr\n",
        "\n",
        "#função que calcula as métricas todas\n",
        "def check_accuracy(loader, model, device=\"cuda\"):\n",
        "    #incializo todas métricas em 0\n",
        "    num_correct = 0\n",
        "    num_pixels = 0\n",
        "    dice_score_total = 0\n",
        "    iou = 0.0\n",
        "    recall_total = 0.0\n",
        "    fpr_total = 0.0\n",
        "    fnr_total = 0.0\n",
        "    model.eval()\n",
        "\n",
        "    with torch.no_grad():\n",
        "        for x, y in loader:\n",
        "            x = x.to(device)\n",
        "            y = y.to(device).unsqueeze(1)\n",
        "            preds = torch.sigmoid(model(x))\n",
        "            preds = (preds > 0.5).float()\n",
        "\n",
        "             # contagem de pixels corretos\n",
        "            num_correct += (preds == y).sum()\n",
        "            num_pixels += torch.numel(preds)\n",
        "\n",
        "            # cálculo das métricas\n",
        "            dice_score_total += dice_score(preds, y)\n",
        "            iou += iou_score(preds, y)\n",
        "            recall_total += recall(preds, y)\n",
        "            fpr_total += falso_positivo(preds, y)\n",
        "            fnr_total += falso_negativo(preds, y)\n",
        "\n",
        "    \"\"\"Métricas no wandb\"\"\"\n",
        "    wandb.log({\"acc\": num_correct / num_pixels, \"dice_score\": dice_score_total / len(loader), \"iou_score\": iou / len(loader), \"recall\": recall_total / len(loader)})\n",
        "    wandb.log({\"Falso positivo\": fpr_total / len(loader), \"Falso Negativo\": fnr_total / len(loader)})\n",
        "\n",
        "    print(f\"Na Validação \\n Obteve: {num_correct}/{num_pixels} with acc {num_correct / num_pixels * 100:.2f}\")\n",
        "    print(f\"Dice Score: {dice_score_total / len(loader)}\")\n",
        "    print(f\"IoU Score: {iou / len(loader)}\")\n",
        "    print(f\"Recall: {recall_total / len(loader)}\")\n",
        "    print(f\"Taxa de falsos positivos: {fpr_total/ len(loader)}\")\n",
        "    print(f\"Taxa de falsos Negativos: {fnr_total/ len(loader)}\")\n",
        "\n",
        "    model.train()\n",
        "\n",
        "def save_predictions_as_imgs(\n",
        "    loader, model, folder=\"/content/drive/MyDrive/saved_images/\", device=\"cuda\"\n",
        "):\n",
        "    model.eval()\n",
        "    for idx, (x, y) in enumerate (loader):\n",
        "        x = x.to(device=device)\n",
        "        with torch.no_grad():\n",
        "            preds = torch.sigmoid(model(x))\n",
        "            preds = (preds > 0.5).float()\n",
        "\n",
        "\n",
        "        torchvision.utils.save_image(\n",
        "            preds, f\"{folder}/pred_{idx}.png\"\n",
        "        )\n",
        "        torchvision.utils.save_image(y.unsqueeze(1), f\"{folder}/true_{idx}.png\")\n",
        "    model.train()\n",
        "\n",
        "#padrão pytorch de treino\n",
        "def train_fn(loader, model, optimizer, loss_fn, scaler):\n",
        "    loop = tqdm(loader)\n",
        "\n",
        "    for batch_idx, (data, targets) in enumerate(loop):\n",
        "        data = data.to(device=DEVICE)\n",
        "        targets = targets.float().unsqueeze(1).to(device=DEVICE)\n",
        "\n",
        "        with torch.cuda.amp.autocast():\n",
        "            predictions = model(data)\n",
        "            loss = loss_fn(predictions, targets)\n",
        "            wandb.log({\"loss\": loss})     #carrega loss no wandb\n",
        "\n",
        "        optimizer.zero_grad()\n",
        "        scaler.scale(loss).backward()\n",
        "        scaler.step(optimizer)\n",
        "        scaler.update()\n",
        "\n",
        "        #atualizando a loss no loop do tqdm\n",
        "        loop.set_postfix(loss=loss.item())\n",
        "\n",
        "\n"
      ],
      "metadata": {
        "id": "vs2pPf1I9YhN"
      },
      "execution_count": null,
      "outputs": []
    },
    {
      "cell_type": "markdown",
      "source": [
        "# Main"
      ],
      "metadata": {
        "id": "S5AYNGMRIh1G"
      }
    },
    {
      "cell_type": "code",
      "source": [
        "def train_step(model: torch.nn.Module,\n",
        "               data_loader: torch.utils.data.DataLoader,\n",
        "               loss_fn: torch.nn.Module,\n",
        "               optimizer: torch.optim.Optimizer,\n",
        "               accuracy_fn,\n",
        "               device: torch.device = device):\n",
        "    train_loss, train_acc = 0, 0\n",
        "    model.to(device)\n",
        "    for batch, (X, y) in enumerate(data_loader):\n",
        "        # Send data to GPU\n",
        "        X, y = X.to(device), y.squeeze(1).type(torch.long).to(device)\n",
        "\n",
        "        # 1. Forward pass (outputs the raw logits from the model)\n",
        "        y_pred = model(X)['out']\n",
        "\n",
        "        # 2. Calculate loss and accuracy (per batch)\n",
        "        loss = loss_fn(y_pred, y)\n",
        "        train_loss += loss\n",
        "        train_acc += accuracy_fn(y_true=y,\n",
        "                                 y_pred=y_pred.argmax(dim=1)) # Go from logits -> pred labels\n",
        "\n",
        "        #wandb.log({\"loss\": loss})     #carrega loss no wandb\n",
        "        # 3. Optimizer zero grad\n",
        "        optimizer.zero_grad()\n",
        "\n",
        "        # 4. Loss backward\n",
        "        loss.backward()\n",
        "\n",
        "        # 5. Optimizer step\n",
        "        optimizer.step()\n",
        "\n",
        "    # Calculate loss and accuracy per epoch and print out what's happening\n",
        "    train_loss /= len(data_loader)\n",
        "    train_acc /= len(data_loader)\n",
        "    print(f\"Train loss: {train_loss:.5f} | Train accuracy: {train_acc:.2f}%\")\n",
        "\n",
        "def test_step(data_loader: torch.utils.data.DataLoader,\n",
        "              model: torch.nn.Module,\n",
        "              loss_fn: torch.nn.Module,\n",
        "              accuracy_fn,\n",
        "              device: torch.device = device):\n",
        "\n",
        "    \"\"\"Perform a testing loop step on model going over data_loader.\"\"\"\n",
        "    test_loss, test_acc = 0, 0\n",
        "    model.to(device)\n",
        "    model.eval() # put model in eval mode\n",
        "\n",
        "    # Turn on inference context manager\n",
        "    with torch.inference_mode():\n",
        "        for X, y in data_loader:\n",
        "            # Send data to GPU\n",
        "            X, y = X.to(device), y.squeeze(1).type(torch.long).to(device)\n",
        "\n",
        "            # 1. Forward pass\n",
        "            test_pred = model(X)['out']\n",
        "\n",
        "            # 2. Calculate loss and accuracy\n",
        "            test_loss += loss_fn(test_pred, y)\n",
        "            test_acc += accuracy_fn(y_true=y,\n",
        "                                    y_pred=test_pred.argmax(dim=1) # Go from logits -> pred labels\n",
        "            )\n",
        "\n",
        "            #wandb.log({\"loss\": loss})     #carrega loss no wandb\n",
        "\n",
        "        # Adjust metrics and print out\n",
        "        test_loss /= len(data_loader)\n",
        "        test_acc /= len(data_loader)\n",
        "        print(f\"Test loss: {test_loss:.5f} | Test accuracy: {test_acc:.2f}%\\n\")\n",
        "\n",
        "\n",
        "def eval_model(model: torch.nn.Module,\n",
        "               data_loader: torch.utils.data.DataLoader,\n",
        "               loss_fn: torch.nn.Module,\n",
        "               accuracy_fn):\n",
        "  \"\"\"\n",
        "  Returns a dictionary containing the results of model predictiong on data_loader.\n",
        "  \"\"\"\n",
        "\n",
        "  loss, acc = 0, 0\n",
        "  with torch.inference_mode():\n",
        "    for X, y in tqdm(data_loader):\n",
        "      #Make our code device agnostic\n",
        "      X, y = X.to(device), y.squeeze(1).type(torch.long).to(device)\n",
        "\n",
        "      #Make predictions\n",
        "      y_pred = model(X)['out']\n",
        "\n",
        "      #Accumulate the loss and acc values per batch\n",
        "      loss += loss_fn(y_pred, y)\n",
        "      acc += accuracy_fn(y_true=y,\n",
        "                         y_pred=y_pred.argmax(dim=1))\n",
        "\n",
        "      #wandb.log({\"loss\": loss})     #carrega loss no wandb\n",
        "\n",
        "    #Scale loss and acc to find the average loss/acc per batch\n",
        "    loss /= len(data_loader)\n",
        "    acc /= len(data_loader)\n",
        "  return {\"model_name\": model.__class__.__name__, # only works when model was created with a class\n",
        "          \"model_loss\": loss.item(),\n",
        "          \"model_acc\": acc\n",
        "          }\n"
      ],
      "metadata": {
        "id": "fg3_yUHtC9iX"
      },
      "execution_count": null,
      "outputs": []
    },
    {
      "cell_type": "code",
      "execution_count": null,
      "metadata": {
        "id": "N7Z_TtwVF7FI",
        "colab": {
          "base_uri": "https://localhost:8080/"
        },
        "outputId": "aded5381-3ca5-4af0-cdf7-b5a2b3260414"
      },
      "outputs": [
        {
          "output_type": "stream",
          "name": "stderr",
          "text": [
            "/usr/local/lib/python3.10/dist-packages/torch/utils/data/dataloader.py:560: UserWarning: This DataLoader will create 4 worker processes in total. Our suggested max number of worker in current system is 2, which is smaller than what this DataLoader is going to create. Please be aware that excessive worker creation might get DataLoader running slow or even freeze, lower the worker number to avoid potential slowness/freeze if necessary.\n",
            "  warnings.warn(_create_warning_msg(\n"
          ]
        }
      ],
      "source": [
        "\n",
        "train_dataloader, test_dataloader = Get_loaders(TRAIN_IMG_DIR = TRAIN_IMG_DIR, \\\n",
        "                                                TRAIN_MASK_DIR = TRAIN_MASK_DIR, \\\n",
        "                                                VAL_IMG_DIR = VAL_IMG_DIR, \\\n",
        "                                                VAL_MASK_DIR = VAL_MASK_DIR, \\\n",
        "                                                BATCH_SIZE=8, \\\n",
        "                                                NUM_WORKERS=4, \\\n",
        "                                                PIN_MEMORY=True)"
      ]
    },
    {
      "cell_type": "code",
      "source": [
        "\n",
        "\n",
        "torch.manual_seed(42)\n",
        "\n",
        "#Meansure time\n",
        "from timeit import default_timer as timer\n",
        "train_time_start_on_gpu = timer()\n",
        "\n",
        "# Set epochs\n",
        "epochs = 3\n",
        "\n",
        "# Create a optimization and evaluation loop using train_step() and test_step()\n",
        "for epoch in tqdm(range(epochs)):\n",
        "  print(f\"Epoch: {epoch}\\n------------\")\n",
        "  train_step(model=model,\n",
        "            data_loader=train_dataloader,\n",
        "            loss_fn=criterion,\n",
        "            optimizer=optimizer,\n",
        "            accuracy_fn = accuracy_fn,\n",
        "            device=device)\n",
        "  test_step(model=model,\n",
        "            data_loader = test_dataloader,\n",
        "            loss_fn=criterion,\n",
        "            accuracy_fn=accuracy_fn,\n",
        "            device=device)\n",
        "\n",
        "  train_time_end_on_gpu = timer()\n",
        "  total_train_time_model_1 = print_train_time(start=train_time_start_on_gpu,\n",
        "                                              end=train_time_end_on_gpu,\n",
        "                                              device=device)"
      ],
      "metadata": {
        "colab": {
          "base_uri": "https://localhost:8080/",
          "height": 361,
          "referenced_widgets": [
            "5eeb26d3e8854edbb340c8511c83cc92",
            "b9fb0b178bb744c59b1c5ea046b575fc",
            "99fcfb75428f432bbadd550de5d453d6",
            "c76a5210caac45c5837d062d350bd76b",
            "9dcf862d8d384a0c82e997961da57248",
            "fe925ac328904525b5d4eca29f3f0083",
            "f23c02b49076472493e497f44fa8b2bc",
            "61d546d66f984042aa190020d60237d1",
            "024e437e52d94c108746bf221ee88f78",
            "91ed24d7f90648258f4794a11d8d1c44",
            "94a5248ae4e24e22b661cddfd050159f"
          ]
        },
        "id": "_lGMAVQzEdRm",
        "outputId": "d2628b01-87f4-4e6e-d831-236414cc16dc"
      },
      "execution_count": null,
      "outputs": [
        {
          "output_type": "display_data",
          "data": {
            "text/plain": [
              "  0%|          | 0/3 [00:00<?, ?it/s]"
            ],
            "application/vnd.jupyter.widget-view+json": {
              "version_major": 2,
              "version_minor": 0,
              "model_id": "5eeb26d3e8854edbb340c8511c83cc92"
            }
          },
          "metadata": {}
        },
        {
          "output_type": "stream",
          "name": "stdout",
          "text": [
            "Epoch: 0\n",
            "------------\n",
            "Train loss: 0.57859 | Train accuracy: 4436062.50%\n",
            "Test loss: 0.58626 | Test accuracy: 6502500.00%\n",
            "\n",
            "Train time on cuda: 21.113 seconds\n",
            "Epoch: 1\n",
            "------------\n",
            "Train loss: 0.51070 | Train accuracy: 6502500.00%\n",
            "Test loss: 0.25831 | Test accuracy: 6502500.00%\n",
            "\n",
            "Train time on cuda: 26.461 seconds\n",
            "Epoch: 2\n",
            "------------\n",
            "Train loss: 0.09622 | Train accuracy: 6502500.00%\n",
            "Test loss: 0.00000 | Test accuracy: 6502500.00%\n",
            "\n",
            "Train time on cuda: 31.504 seconds\n"
          ]
        }
      ]
    },
    {
      "cell_type": "code",
      "source": [
        "torch.manual_seed(42)\n",
        "# Get model_1 results dictionary\n",
        "model_1_results = eval_model(model=model,\n",
        "                             data_loader=test_dataloader,\n",
        "                             loss_fn=criterion,\n",
        "                             accuracy_fn=accuracy_fn)\n"
      ],
      "metadata": {
        "colab": {
          "base_uri": "https://localhost:8080/",
          "height": 49,
          "referenced_widgets": [
            "ab9b71e0230d4f438fbee0d62887edb5",
            "a5f337e80cef4feb8109686fe62341f6",
            "caf550fb623f4eefa3ad60301b1be746",
            "5a545309252c4a03906a8b15a38c743f",
            "20321a7f380f4ae5a11dac78e9d629f6",
            "6621df4486ea4cc49e729c482c247075",
            "57a04823d011420ab8a4886751917bd6",
            "4e0744cf28f54fdfbd11a310583faa28",
            "352fb83e2ed94790bfb5c85ad12d137c",
            "828ade71faaf4fda9c890462b7e2aaa8",
            "b481def6e352489aaa6789680e3d63a6"
          ]
        },
        "id": "bPA8NCfPHi_h",
        "outputId": "48a18e6a-90e1-44ed-aec0-cb122c276396"
      },
      "execution_count": null,
      "outputs": [
        {
          "output_type": "display_data",
          "data": {
            "text/plain": [
              "  0%|          | 0/4 [00:00<?, ?it/s]"
            ],
            "application/vnd.jupyter.widget-view+json": {
              "version_major": 2,
              "version_minor": 0,
              "model_id": "ab9b71e0230d4f438fbee0d62887edb5"
            }
          },
          "metadata": {}
        }
      ]
    },
    {
      "cell_type": "markdown",
      "metadata": {
        "id": "qtwALwYuLRMx"
      },
      "source": [
        "Usar 🇰* https://pytorch.org/vision/stable/models/generated/torchvision.models.segmentation.deeplabv3_resnet101.html#torchvision.models.segmentation.deeplabv3_resnet101"
      ]
    }
  ],
  "metadata": {
    "accelerator": "GPU",
    "colab": {
      "collapsed_sections": [
        "Feeg3yHGGe5h",
        "DgyuakE5YJcp",
        "YoxLNZEBdACX",
        "pZuUivU9dPOo",
        "v1pmbGuZ26xr"
      ],
      "provenance": [],
      "include_colab_link": true
    },
    "kernelspec": {
      "display_name": "Python 3",
      "name": "python3"
    },
    "language_info": {
      "name": "python"
    },
    "widgets": {
      "application/vnd.jupyter.widget-state+json": {
        "5eeb26d3e8854edbb340c8511c83cc92": {
          "model_module": "@jupyter-widgets/controls",
          "model_name": "HBoxModel",
          "model_module_version": "1.5.0",
          "state": {
            "_dom_classes": [],
            "_model_module": "@jupyter-widgets/controls",
            "_model_module_version": "1.5.0",
            "_model_name": "HBoxModel",
            "_view_count": null,
            "_view_module": "@jupyter-widgets/controls",
            "_view_module_version": "1.5.0",
            "_view_name": "HBoxView",
            "box_style": "",
            "children": [
              "IPY_MODEL_b9fb0b178bb744c59b1c5ea046b575fc",
              "IPY_MODEL_99fcfb75428f432bbadd550de5d453d6",
              "IPY_MODEL_c76a5210caac45c5837d062d350bd76b"
            ],
            "layout": "IPY_MODEL_9dcf862d8d384a0c82e997961da57248"
          }
        },
        "b9fb0b178bb744c59b1c5ea046b575fc": {
          "model_module": "@jupyter-widgets/controls",
          "model_name": "HTMLModel",
          "model_module_version": "1.5.0",
          "state": {
            "_dom_classes": [],
            "_model_module": "@jupyter-widgets/controls",
            "_model_module_version": "1.5.0",
            "_model_name": "HTMLModel",
            "_view_count": null,
            "_view_module": "@jupyter-widgets/controls",
            "_view_module_version": "1.5.0",
            "_view_name": "HTMLView",
            "description": "",
            "description_tooltip": null,
            "layout": "IPY_MODEL_fe925ac328904525b5d4eca29f3f0083",
            "placeholder": "​",
            "style": "IPY_MODEL_f23c02b49076472493e497f44fa8b2bc",
            "value": "100%"
          }
        },
        "99fcfb75428f432bbadd550de5d453d6": {
          "model_module": "@jupyter-widgets/controls",
          "model_name": "FloatProgressModel",
          "model_module_version": "1.5.0",
          "state": {
            "_dom_classes": [],
            "_model_module": "@jupyter-widgets/controls",
            "_model_module_version": "1.5.0",
            "_model_name": "FloatProgressModel",
            "_view_count": null,
            "_view_module": "@jupyter-widgets/controls",
            "_view_module_version": "1.5.0",
            "_view_name": "ProgressView",
            "bar_style": "success",
            "description": "",
            "description_tooltip": null,
            "layout": "IPY_MODEL_61d546d66f984042aa190020d60237d1",
            "max": 3,
            "min": 0,
            "orientation": "horizontal",
            "style": "IPY_MODEL_024e437e52d94c108746bf221ee88f78",
            "value": 3
          }
        },
        "c76a5210caac45c5837d062d350bd76b": {
          "model_module": "@jupyter-widgets/controls",
          "model_name": "HTMLModel",
          "model_module_version": "1.5.0",
          "state": {
            "_dom_classes": [],
            "_model_module": "@jupyter-widgets/controls",
            "_model_module_version": "1.5.0",
            "_model_name": "HTMLModel",
            "_view_count": null,
            "_view_module": "@jupyter-widgets/controls",
            "_view_module_version": "1.5.0",
            "_view_name": "HTMLView",
            "description": "",
            "description_tooltip": null,
            "layout": "IPY_MODEL_91ed24d7f90648258f4794a11d8d1c44",
            "placeholder": "​",
            "style": "IPY_MODEL_94a5248ae4e24e22b661cddfd050159f",
            "value": " 3/3 [00:31&lt;00:00,  8.74s/it]"
          }
        },
        "9dcf862d8d384a0c82e997961da57248": {
          "model_module": "@jupyter-widgets/base",
          "model_name": "LayoutModel",
          "model_module_version": "1.2.0",
          "state": {
            "_model_module": "@jupyter-widgets/base",
            "_model_module_version": "1.2.0",
            "_model_name": "LayoutModel",
            "_view_count": null,
            "_view_module": "@jupyter-widgets/base",
            "_view_module_version": "1.2.0",
            "_view_name": "LayoutView",
            "align_content": null,
            "align_items": null,
            "align_self": null,
            "border": null,
            "bottom": null,
            "display": null,
            "flex": null,
            "flex_flow": null,
            "grid_area": null,
            "grid_auto_columns": null,
            "grid_auto_flow": null,
            "grid_auto_rows": null,
            "grid_column": null,
            "grid_gap": null,
            "grid_row": null,
            "grid_template_areas": null,
            "grid_template_columns": null,
            "grid_template_rows": null,
            "height": null,
            "justify_content": null,
            "justify_items": null,
            "left": null,
            "margin": null,
            "max_height": null,
            "max_width": null,
            "min_height": null,
            "min_width": null,
            "object_fit": null,
            "object_position": null,
            "order": null,
            "overflow": null,
            "overflow_x": null,
            "overflow_y": null,
            "padding": null,
            "right": null,
            "top": null,
            "visibility": null,
            "width": null
          }
        },
        "fe925ac328904525b5d4eca29f3f0083": {
          "model_module": "@jupyter-widgets/base",
          "model_name": "LayoutModel",
          "model_module_version": "1.2.0",
          "state": {
            "_model_module": "@jupyter-widgets/base",
            "_model_module_version": "1.2.0",
            "_model_name": "LayoutModel",
            "_view_count": null,
            "_view_module": "@jupyter-widgets/base",
            "_view_module_version": "1.2.0",
            "_view_name": "LayoutView",
            "align_content": null,
            "align_items": null,
            "align_self": null,
            "border": null,
            "bottom": null,
            "display": null,
            "flex": null,
            "flex_flow": null,
            "grid_area": null,
            "grid_auto_columns": null,
            "grid_auto_flow": null,
            "grid_auto_rows": null,
            "grid_column": null,
            "grid_gap": null,
            "grid_row": null,
            "grid_template_areas": null,
            "grid_template_columns": null,
            "grid_template_rows": null,
            "height": null,
            "justify_content": null,
            "justify_items": null,
            "left": null,
            "margin": null,
            "max_height": null,
            "max_width": null,
            "min_height": null,
            "min_width": null,
            "object_fit": null,
            "object_position": null,
            "order": null,
            "overflow": null,
            "overflow_x": null,
            "overflow_y": null,
            "padding": null,
            "right": null,
            "top": null,
            "visibility": null,
            "width": null
          }
        },
        "f23c02b49076472493e497f44fa8b2bc": {
          "model_module": "@jupyter-widgets/controls",
          "model_name": "DescriptionStyleModel",
          "model_module_version": "1.5.0",
          "state": {
            "_model_module": "@jupyter-widgets/controls",
            "_model_module_version": "1.5.0",
            "_model_name": "DescriptionStyleModel",
            "_view_count": null,
            "_view_module": "@jupyter-widgets/base",
            "_view_module_version": "1.2.0",
            "_view_name": "StyleView",
            "description_width": ""
          }
        },
        "61d546d66f984042aa190020d60237d1": {
          "model_module": "@jupyter-widgets/base",
          "model_name": "LayoutModel",
          "model_module_version": "1.2.0",
          "state": {
            "_model_module": "@jupyter-widgets/base",
            "_model_module_version": "1.2.0",
            "_model_name": "LayoutModel",
            "_view_count": null,
            "_view_module": "@jupyter-widgets/base",
            "_view_module_version": "1.2.0",
            "_view_name": "LayoutView",
            "align_content": null,
            "align_items": null,
            "align_self": null,
            "border": null,
            "bottom": null,
            "display": null,
            "flex": null,
            "flex_flow": null,
            "grid_area": null,
            "grid_auto_columns": null,
            "grid_auto_flow": null,
            "grid_auto_rows": null,
            "grid_column": null,
            "grid_gap": null,
            "grid_row": null,
            "grid_template_areas": null,
            "grid_template_columns": null,
            "grid_template_rows": null,
            "height": null,
            "justify_content": null,
            "justify_items": null,
            "left": null,
            "margin": null,
            "max_height": null,
            "max_width": null,
            "min_height": null,
            "min_width": null,
            "object_fit": null,
            "object_position": null,
            "order": null,
            "overflow": null,
            "overflow_x": null,
            "overflow_y": null,
            "padding": null,
            "right": null,
            "top": null,
            "visibility": null,
            "width": null
          }
        },
        "024e437e52d94c108746bf221ee88f78": {
          "model_module": "@jupyter-widgets/controls",
          "model_name": "ProgressStyleModel",
          "model_module_version": "1.5.0",
          "state": {
            "_model_module": "@jupyter-widgets/controls",
            "_model_module_version": "1.5.0",
            "_model_name": "ProgressStyleModel",
            "_view_count": null,
            "_view_module": "@jupyter-widgets/base",
            "_view_module_version": "1.2.0",
            "_view_name": "StyleView",
            "bar_color": null,
            "description_width": ""
          }
        },
        "91ed24d7f90648258f4794a11d8d1c44": {
          "model_module": "@jupyter-widgets/base",
          "model_name": "LayoutModel",
          "model_module_version": "1.2.0",
          "state": {
            "_model_module": "@jupyter-widgets/base",
            "_model_module_version": "1.2.0",
            "_model_name": "LayoutModel",
            "_view_count": null,
            "_view_module": "@jupyter-widgets/base",
            "_view_module_version": "1.2.0",
            "_view_name": "LayoutView",
            "align_content": null,
            "align_items": null,
            "align_self": null,
            "border": null,
            "bottom": null,
            "display": null,
            "flex": null,
            "flex_flow": null,
            "grid_area": null,
            "grid_auto_columns": null,
            "grid_auto_flow": null,
            "grid_auto_rows": null,
            "grid_column": null,
            "grid_gap": null,
            "grid_row": null,
            "grid_template_areas": null,
            "grid_template_columns": null,
            "grid_template_rows": null,
            "height": null,
            "justify_content": null,
            "justify_items": null,
            "left": null,
            "margin": null,
            "max_height": null,
            "max_width": null,
            "min_height": null,
            "min_width": null,
            "object_fit": null,
            "object_position": null,
            "order": null,
            "overflow": null,
            "overflow_x": null,
            "overflow_y": null,
            "padding": null,
            "right": null,
            "top": null,
            "visibility": null,
            "width": null
          }
        },
        "94a5248ae4e24e22b661cddfd050159f": {
          "model_module": "@jupyter-widgets/controls",
          "model_name": "DescriptionStyleModel",
          "model_module_version": "1.5.0",
          "state": {
            "_model_module": "@jupyter-widgets/controls",
            "_model_module_version": "1.5.0",
            "_model_name": "DescriptionStyleModel",
            "_view_count": null,
            "_view_module": "@jupyter-widgets/base",
            "_view_module_version": "1.2.0",
            "_view_name": "StyleView",
            "description_width": ""
          }
        },
        "ab9b71e0230d4f438fbee0d62887edb5": {
          "model_module": "@jupyter-widgets/controls",
          "model_name": "HBoxModel",
          "model_module_version": "1.5.0",
          "state": {
            "_dom_classes": [],
            "_model_module": "@jupyter-widgets/controls",
            "_model_module_version": "1.5.0",
            "_model_name": "HBoxModel",
            "_view_count": null,
            "_view_module": "@jupyter-widgets/controls",
            "_view_module_version": "1.5.0",
            "_view_name": "HBoxView",
            "box_style": "",
            "children": [
              "IPY_MODEL_a5f337e80cef4feb8109686fe62341f6",
              "IPY_MODEL_caf550fb623f4eefa3ad60301b1be746",
              "IPY_MODEL_5a545309252c4a03906a8b15a38c743f"
            ],
            "layout": "IPY_MODEL_20321a7f380f4ae5a11dac78e9d629f6"
          }
        },
        "a5f337e80cef4feb8109686fe62341f6": {
          "model_module": "@jupyter-widgets/controls",
          "model_name": "HTMLModel",
          "model_module_version": "1.5.0",
          "state": {
            "_dom_classes": [],
            "_model_module": "@jupyter-widgets/controls",
            "_model_module_version": "1.5.0",
            "_model_name": "HTMLModel",
            "_view_count": null,
            "_view_module": "@jupyter-widgets/controls",
            "_view_module_version": "1.5.0",
            "_view_name": "HTMLView",
            "description": "",
            "description_tooltip": null,
            "layout": "IPY_MODEL_6621df4486ea4cc49e729c482c247075",
            "placeholder": "​",
            "style": "IPY_MODEL_57a04823d011420ab8a4886751917bd6",
            "value": "100%"
          }
        },
        "caf550fb623f4eefa3ad60301b1be746": {
          "model_module": "@jupyter-widgets/controls",
          "model_name": "FloatProgressModel",
          "model_module_version": "1.5.0",
          "state": {
            "_dom_classes": [],
            "_model_module": "@jupyter-widgets/controls",
            "_model_module_version": "1.5.0",
            "_model_name": "FloatProgressModel",
            "_view_count": null,
            "_view_module": "@jupyter-widgets/controls",
            "_view_module_version": "1.5.0",
            "_view_name": "ProgressView",
            "bar_style": "success",
            "description": "",
            "description_tooltip": null,
            "layout": "IPY_MODEL_4e0744cf28f54fdfbd11a310583faa28",
            "max": 4,
            "min": 0,
            "orientation": "horizontal",
            "style": "IPY_MODEL_352fb83e2ed94790bfb5c85ad12d137c",
            "value": 4
          }
        },
        "5a545309252c4a03906a8b15a38c743f": {
          "model_module": "@jupyter-widgets/controls",
          "model_name": "HTMLModel",
          "model_module_version": "1.5.0",
          "state": {
            "_dom_classes": [],
            "_model_module": "@jupyter-widgets/controls",
            "_model_module_version": "1.5.0",
            "_model_name": "HTMLModel",
            "_view_count": null,
            "_view_module": "@jupyter-widgets/controls",
            "_view_module_version": "1.5.0",
            "_view_name": "HTMLView",
            "description": "",
            "description_tooltip": null,
            "layout": "IPY_MODEL_828ade71faaf4fda9c890462b7e2aaa8",
            "placeholder": "​",
            "style": "IPY_MODEL_b481def6e352489aaa6789680e3d63a6",
            "value": " 4/4 [00:03&lt;00:00,  1.91it/s]"
          }
        },
        "20321a7f380f4ae5a11dac78e9d629f6": {
          "model_module": "@jupyter-widgets/base",
          "model_name": "LayoutModel",
          "model_module_version": "1.2.0",
          "state": {
            "_model_module": "@jupyter-widgets/base",
            "_model_module_version": "1.2.0",
            "_model_name": "LayoutModel",
            "_view_count": null,
            "_view_module": "@jupyter-widgets/base",
            "_view_module_version": "1.2.0",
            "_view_name": "LayoutView",
            "align_content": null,
            "align_items": null,
            "align_self": null,
            "border": null,
            "bottom": null,
            "display": null,
            "flex": null,
            "flex_flow": null,
            "grid_area": null,
            "grid_auto_columns": null,
            "grid_auto_flow": null,
            "grid_auto_rows": null,
            "grid_column": null,
            "grid_gap": null,
            "grid_row": null,
            "grid_template_areas": null,
            "grid_template_columns": null,
            "grid_template_rows": null,
            "height": null,
            "justify_content": null,
            "justify_items": null,
            "left": null,
            "margin": null,
            "max_height": null,
            "max_width": null,
            "min_height": null,
            "min_width": null,
            "object_fit": null,
            "object_position": null,
            "order": null,
            "overflow": null,
            "overflow_x": null,
            "overflow_y": null,
            "padding": null,
            "right": null,
            "top": null,
            "visibility": null,
            "width": null
          }
        },
        "6621df4486ea4cc49e729c482c247075": {
          "model_module": "@jupyter-widgets/base",
          "model_name": "LayoutModel",
          "model_module_version": "1.2.0",
          "state": {
            "_model_module": "@jupyter-widgets/base",
            "_model_module_version": "1.2.0",
            "_model_name": "LayoutModel",
            "_view_count": null,
            "_view_module": "@jupyter-widgets/base",
            "_view_module_version": "1.2.0",
            "_view_name": "LayoutView",
            "align_content": null,
            "align_items": null,
            "align_self": null,
            "border": null,
            "bottom": null,
            "display": null,
            "flex": null,
            "flex_flow": null,
            "grid_area": null,
            "grid_auto_columns": null,
            "grid_auto_flow": null,
            "grid_auto_rows": null,
            "grid_column": null,
            "grid_gap": null,
            "grid_row": null,
            "grid_template_areas": null,
            "grid_template_columns": null,
            "grid_template_rows": null,
            "height": null,
            "justify_content": null,
            "justify_items": null,
            "left": null,
            "margin": null,
            "max_height": null,
            "max_width": null,
            "min_height": null,
            "min_width": null,
            "object_fit": null,
            "object_position": null,
            "order": null,
            "overflow": null,
            "overflow_x": null,
            "overflow_y": null,
            "padding": null,
            "right": null,
            "top": null,
            "visibility": null,
            "width": null
          }
        },
        "57a04823d011420ab8a4886751917bd6": {
          "model_module": "@jupyter-widgets/controls",
          "model_name": "DescriptionStyleModel",
          "model_module_version": "1.5.0",
          "state": {
            "_model_module": "@jupyter-widgets/controls",
            "_model_module_version": "1.5.0",
            "_model_name": "DescriptionStyleModel",
            "_view_count": null,
            "_view_module": "@jupyter-widgets/base",
            "_view_module_version": "1.2.0",
            "_view_name": "StyleView",
            "description_width": ""
          }
        },
        "4e0744cf28f54fdfbd11a310583faa28": {
          "model_module": "@jupyter-widgets/base",
          "model_name": "LayoutModel",
          "model_module_version": "1.2.0",
          "state": {
            "_model_module": "@jupyter-widgets/base",
            "_model_module_version": "1.2.0",
            "_model_name": "LayoutModel",
            "_view_count": null,
            "_view_module": "@jupyter-widgets/base",
            "_view_module_version": "1.2.0",
            "_view_name": "LayoutView",
            "align_content": null,
            "align_items": null,
            "align_self": null,
            "border": null,
            "bottom": null,
            "display": null,
            "flex": null,
            "flex_flow": null,
            "grid_area": null,
            "grid_auto_columns": null,
            "grid_auto_flow": null,
            "grid_auto_rows": null,
            "grid_column": null,
            "grid_gap": null,
            "grid_row": null,
            "grid_template_areas": null,
            "grid_template_columns": null,
            "grid_template_rows": null,
            "height": null,
            "justify_content": null,
            "justify_items": null,
            "left": null,
            "margin": null,
            "max_height": null,
            "max_width": null,
            "min_height": null,
            "min_width": null,
            "object_fit": null,
            "object_position": null,
            "order": null,
            "overflow": null,
            "overflow_x": null,
            "overflow_y": null,
            "padding": null,
            "right": null,
            "top": null,
            "visibility": null,
            "width": null
          }
        },
        "352fb83e2ed94790bfb5c85ad12d137c": {
          "model_module": "@jupyter-widgets/controls",
          "model_name": "ProgressStyleModel",
          "model_module_version": "1.5.0",
          "state": {
            "_model_module": "@jupyter-widgets/controls",
            "_model_module_version": "1.5.0",
            "_model_name": "ProgressStyleModel",
            "_view_count": null,
            "_view_module": "@jupyter-widgets/base",
            "_view_module_version": "1.2.0",
            "_view_name": "StyleView",
            "bar_color": null,
            "description_width": ""
          }
        },
        "828ade71faaf4fda9c890462b7e2aaa8": {
          "model_module": "@jupyter-widgets/base",
          "model_name": "LayoutModel",
          "model_module_version": "1.2.0",
          "state": {
            "_model_module": "@jupyter-widgets/base",
            "_model_module_version": "1.2.0",
            "_model_name": "LayoutModel",
            "_view_count": null,
            "_view_module": "@jupyter-widgets/base",
            "_view_module_version": "1.2.0",
            "_view_name": "LayoutView",
            "align_content": null,
            "align_items": null,
            "align_self": null,
            "border": null,
            "bottom": null,
            "display": null,
            "flex": null,
            "flex_flow": null,
            "grid_area": null,
            "grid_auto_columns": null,
            "grid_auto_flow": null,
            "grid_auto_rows": null,
            "grid_column": null,
            "grid_gap": null,
            "grid_row": null,
            "grid_template_areas": null,
            "grid_template_columns": null,
            "grid_template_rows": null,
            "height": null,
            "justify_content": null,
            "justify_items": null,
            "left": null,
            "margin": null,
            "max_height": null,
            "max_width": null,
            "min_height": null,
            "min_width": null,
            "object_fit": null,
            "object_position": null,
            "order": null,
            "overflow": null,
            "overflow_x": null,
            "overflow_y": null,
            "padding": null,
            "right": null,
            "top": null,
            "visibility": null,
            "width": null
          }
        },
        "b481def6e352489aaa6789680e3d63a6": {
          "model_module": "@jupyter-widgets/controls",
          "model_name": "DescriptionStyleModel",
          "model_module_version": "1.5.0",
          "state": {
            "_model_module": "@jupyter-widgets/controls",
            "_model_module_version": "1.5.0",
            "_model_name": "DescriptionStyleModel",
            "_view_count": null,
            "_view_module": "@jupyter-widgets/base",
            "_view_module_version": "1.2.0",
            "_view_name": "StyleView",
            "description_width": ""
          }
        }
      }
    }
  },
  "nbformat": 4,
  "nbformat_minor": 0
}